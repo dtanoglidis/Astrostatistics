{
 "cells": [
  {
   "cell_type": "code",
   "execution_count": 214,
   "metadata": {
    "collapsed": false
   },
   "outputs": [
    {
     "name": "stdout",
     "output_type": "stream",
     "text": [
      "Populating the interactive namespace from numpy and matplotlib\n"
     ]
    }
   ],
   "source": [
    "# Import some stuff\n",
    "import numpy as np \n",
    "from scipy.special import erf\n",
    "import numpy.random as rn\n",
    "import matplotlib\n",
    "import matplotlib.pyplot as plt\n",
    "from code.plot_utils import plot_pretty\n",
    "%matplotlib inline  \n",
    "%pylab inline \n",
    "import seaborn as sns; sns.set()\n",
    "rcParams['font.family'] = 'serif'\n",
    "\n",
    "plot_pretty()"
   ]
  },
  {
   "cell_type": "markdown",
   "metadata": {},
   "source": [
    "# Problem \n",
    "\n",
    "Salpeter parametrized the initial mass function as:\n",
    "\n",
    "\\begin{equation}\n",
    "f(x) \\propto  x^{-\\gamma}\n",
    "\\end{equation}\n",
    "\n",
    "where $x = m_\\star /m_\\odot, \\,\\,\\, 0.5\\leq x \\leq 10$ and $\\gamma \\cong 2.35$.\n",
    "\n",
    "We want to estimate how many stars, $N_\\star$ we need to observe in order to measure $\\gamma$ with relative uncertainty $2 \\%$.\n",
    "\n",
    "Before doing anything else, let us first normalize $f(x)$. Let $f(x) = Ax^{-\\gamma}$. Requiring the integral over the $x$-range to be unity, we get:\n",
    "\n",
    "\\begin{equation}\n",
    "\\int f(x) dx = 1 \\Rightarrow A\\int_{x_0}^{x_1} x^{-\\gamma} dx =1 \\Rightarrow \\frac{1}{1-\\gamma}A(x_1^{1-\\gamma}- x_0^{1-\\gamma}) =1 \\Rightarrow\n",
    "\\end{equation}\n",
    "\n",
    "\\begin{equation}\n",
    "\\Rightarrow \\boxed{A = \\frac{1-\\gamma}{x_1^{1-\\gamma}- x_0^{1-\\gamma}}},\n",
    "\\end{equation}\n",
    "\n",
    "with $x_0 = 0.5$ and $x_1 = 10$, and fiducial value for $\\gamma$ when need to evaluate it $\\gamma \\cong 2.35$.\n",
    "\n",
    "So write now the pdf as $f(x) = A(\\gamma)x^{-\\gamma}$, where we explicitly denote that the normalization constant depends on $\\gamma$.\n",
    "\n",
    "To find the number of stars required, I will use the magic formula #2. This expresses the Cramer-Rao bound:\n",
    "\n",
    "\\begin{equation}\n",
    "\\boxed{\n",
    "\\mbox{Var}(\\gamma) = \\sigma_\\gamma^2 \\geq \\frac{1}{N_\\star I(\\gamma)},}\n",
    "\\end{equation}\n",
    "\n",
    "where:\n",
    "\n",
    "\\begin{equation}\n",
    "\\boxed{\n",
    "I(\\gamma) = \\int \\frac{1}{f}\\left( \\frac{\\partial f}{\\partial \\gamma}\\right)^2 dx}\n",
    "\\end{equation}\n",
    "\n",
    "We proceed to calculate $I(\\gamma)$. Useful formula for derivatives: $\\frac{\\partial}{\\partial x}\\alpha^x = \\ln\\alpha \\,\\alpha^x$.\n",
    "\n",
    "Using the above formula, we have:\n",
    "\\begin{equation}\n",
    "\\frac{\\partial}{\\partial \\gamma}f(x) = \\left[A'(\\gamma) - A(\\gamma)\\ln x\\right]x^{-\\gamma}\n",
    "\\end{equation}\n",
    "\n",
    "Where $A'(\\gamma) = \\frac{\\partial}{\\partial \\gamma}A(\\gamma)$. Now, dropping the explic dependence on $\\gamma$ from $A$ and $A'$, we can write $I$, using the above result, as:\n",
    "\n",
    "\\begin{eqnarray}\n",
    "I(\\gamma)& = &\\int_{x_0}^{x_1} \\frac{1}{A}\\left[A^{' \\,2} -2AA'\\ln x + A^2\\ln^2 x \\right]x^{-\\gamma} dx \\Rightarrow\\\\\n",
    "\\Rightarrow I(\\gamma) & = & \\frac{A^{' \\,2}}{A}\\hat{I}_1(\\gamma) -2A'\\hat{I}_2(\\gamma) + A\\hat{I}_3(\\gamma), \n",
    "\\end{eqnarray}\n",
    "\n",
    "where:\n",
    "\\begin{eqnarray}\n",
    "\\hat{I}_1(\\gamma) & = & \\int_{x_0}^{x_1} x^{-\\gamma} dx \\\\\n",
    "\\hat{I}_2(\\gamma) & = & \\int_{x_0}^{x_1} \\ln x \\,x^{-\\gamma} dx \\\\\n",
    "\\hat{I}_3(\\gamma) & = & \\int_{x_0}^{x_1} \\ln^2 x\\, x^{-\\gamma} dx\n",
    "\\end{eqnarray}\n",
    "\n",
    "Let's try to calculate the integrals now:\n",
    "\n",
    "By definition of the normalization constant (see above), we have:\n",
    "\\begin{equation}\n",
    "\\boxed{\\hat{I}_1(\\gamma) = \\frac{1}{A}}\n",
    "\\end{equation}\n",
    "\n",
    "Performing the other two integrals, we arrive at:\n",
    "\\begin{equation}\n",
    "\\boxed{\n",
    "\\hat{I}_2(\\gamma) = \\frac{1}{1-\\gamma}\\left( \\left.x^{1-\\gamma}\\,\\ln x \\right|_{x_0}^{x_1} -\\frac{1}{A}\\right),}\n",
    "\\end{equation}\n",
    "\n",
    "where $\\left.x^{1-\\gamma} \\ln x \\right|_{x_0}^{x_1} \\equiv x_1^{1-\\gamma} \\ln x_1 - x_0^{1-\\gamma} \\ln x_0$.\n",
    "\n",
    "And:\n",
    "\\begin{equation}\n",
    "\\boxed{\n",
    "\\hat{I}_3(\\gamma) = \\frac{1}{1 - \\gamma} \\left(\\left.x^{1-\\gamma}\\ln^2x\\right|_{x_0}^{x_1} - \\frac{2}{1-\\gamma}  \\left.x^{1-\\gamma}\\ln x\\right|_{x_0}^{x_1} + \\frac{2}{1-\\gamma}\\frac{1}{A}\\right)}\n",
    "\\end{equation}\n",
    "\n",
    "We have now to calculate $A'$ and then evaluate everything.\n",
    "\n",
    "\\begin{equation}\n",
    "A(\\gamma) = \\frac{1-\\gamma}{x_1^{1 - \\gamma} - x_0^{1 - \\gamma}} \\Rightarrow A' = - \\frac{1}{x_1^{1 - \\gamma} - x_0^{1 - \\gamma}} + (1 - \\gamma)\\frac{\\partial}{\\partial \\gamma}\\left(\\frac{1}{x_1^{1 - \\gamma} - x_0^{1 - \\gamma}} \\right) \\Rightarrow \n",
    "\\end{equation}\n",
    "\n",
    "\\begin{equation}\n",
    "\\Rightarrow \\dots \\Rightarrow \\boxed{A'(\\gamma) = - \\frac{1}{x_1^{1 - \\gamma} - x_0^{1 - \\gamma}} +\\frac{1-\\gamma}{\\left(x_1^{1 - \\gamma} - x_0^{1 - \\gamma} \\right)^2}\\left. x^{1-\\gamma}\\ln x \\right|_{x_0}^{x_1}}\n",
    "\\end{equation}\n",
    "\n",
    "Now, let's use $x_0 = 0.5, x_1 = 10.0$ and $\\gamma = 2.35$ to evaluate everything.\n",
    "\n",
    "We have:\n",
    "\n",
    "\\begin{eqnarray}\n",
    "x_1^{1 - \\gamma} - x_0^{1-\\gamma} \\cong - 2.504\\\\\n",
    "\\left.x^{1-\\gamma}\\ln x\\right|_{x_0}^{x_1} \\cong 1.8698\\\\\n",
    "\\left.x^{1-\\gamma}\\ln^2 x\\right|_{x_0}^{x_1} = -0.9879\\\\\n",
    "\\end{eqnarray}\n",
    "\n",
    "And then using these:\n",
    "\n",
    "\\begin{eqnarray}\n",
    "A \\cong 0.539 \\\\\n",
    "A' \\cong -0.003226\n",
    "\\end{eqnarray}\n",
    "\n",
    "And then:\n",
    "\\begin{eqnarray}\n",
    "\\hat{I}_1 \\cong 1.8553 \\\\\n",
    "\\hat{I}_2 \\cong - 0.0107 \\\\\n",
    "\\hat{I}_3 \\cong 0.7158\n",
    "\\end{eqnarray}\n",
    "\n",
    "Putting everything together, we have:\n",
    "\\begin{equation}\n",
    "\\boxed{\n",
    "I_{\\gamma = 2.35} = 0.3852}\n",
    "\\end{equation}\n",
    "\n",
    "Using the Cramer-Rao bound formula, we have (in the limit where we consider the equality sign):\n",
    "\n",
    "\\begin{equation}\n",
    "N_\\star = \\frac{1}{\\sigma_\\gamma^2 I(\\gamma)}\n",
    "\\end{equation}\n",
    "\n",
    "Since we want to find the $N_\\star$ in order to measure $\\sigma_\\gamma$ with relative uncertainty $2 \\%$, we take: \n",
    "\\begin{equation}\n",
    "\\sigma_\\gamma = 0.02\\times2.35 = 0.047\n",
    "\\end{equation}\n",
    "\n",
    "Putting everything together we have:\n",
    "\n",
    "\\begin{equation}\n",
    "N_\\star = \\frac{1}{(0.047^2)\\times 0.3852}\\,\\, \\Rightarrow\\,\\, \\boxed{N_\\star \\cong 1175 \\,\\,\\,\\mbox{stars}} \n",
    "\\end{equation}\n",
    "\n",
    "We need to observe approximately $1175$ stars to achieve a $2\\%$ accuracy in the determination of $\\gamma$."
   ]
  },
  {
   "cell_type": "markdown",
   "metadata": {},
   "source": [
    "# Problem\n",
    "\n",
    "To apply the inverse transform method, we have to calculate the C.D.F. of $f(x)$, $F(x)$. This is:\n",
    "\n",
    "\\begin{equation}\n",
    "F(x) = \\int_{x_0}^{x} f(x') dx' = \\int_{x_0}^x A(\\gamma) (x')^{-\\gamma}dx' = \\frac{A(\\gamma)}{1 - \\gamma}\\left(x^{1-\\gamma} - x_0^{1-\\gamma} \\right)\n",
    "\\end{equation}\n",
    "\n",
    "Using the form of $A(\\gamma)$ from the previous problem, we arrive at:\n",
    "\n",
    "\\begin{equation}\n",
    "\\boxed{\n",
    "F(x)= \\frac{x^{1-\\gamma} - x_0^{1-\\gamma}}{x_1^{1-\\gamma} - x_0^{1-\\gamma}}\n",
    "}\n",
    "\\end{equation}\n",
    "\n",
    "With $x_0 = 0.5, x_1 = 10$ and $\\gamma = 2.35$, as before.\n",
    "\n",
    "Now, lets invert the above. Set $F(x) = u$ for conveniene. Then:\n",
    "\n",
    "\\begin{equation}\n",
    "x^{1-\\gamma} - x_0^{1-\\gamma} = u\\left(x_1^{1-\\gamma} - x_0^{1-\\gamma}\\right) \\Rightarrow x^{1-\\gamma} = x_0^{1-\\gamma} + u\\left(x_1^{1-\\gamma} - x_0^{1-\\gamma}\\right) \\Rightarrow \n",
    "\\end{equation}\n",
    "\n",
    "\\begin{equation}\n",
    "\\Rightarrow \\boxed{ x = \\left[ x_0^{1-\\gamma} + u\\left(x_1^{1-\\gamma} - x_0^{1-\\gamma}\\right) \\right]^{\\frac{1}{1-\\gamma}}}\n",
    "\\end{equation} \n",
    "\n",
    "So, to generate random numbers $x_i$ according to the p.d.f $f(x)$, we draw random numbers $u_i$ from the uniform distribution $U(0,1)$ and then use the above formula to compute $x_i$.\n"
   ]
  },
  {
   "cell_type": "code",
   "execution_count": 215,
   "metadata": {
    "collapsed": true
   },
   "outputs": [],
   "source": [
    "# Inverse transform function \n",
    "def salpeter_imf_rand(u, x_0, x_1, gamma):\n",
    "    \"\"\"\n",
    "    This is a function that gets as inputs:\n",
    "    - A random number / or array of random numbers, u,\n",
    "    uniformly distributed in the interval (0,1) \n",
    "    - The limits of the interval where the p.d.f is defined\n",
    "    x_0, x_1\n",
    "    - The value of the power law, gamma \n",
    "    \n",
    "    And returns a random number / array of random numbers\n",
    "    distributed according to the salpeter pdf\n",
    "    \"\"\"\n",
    "    \n",
    "    #define the exponential 1-g - It is everywhere\n",
    "    exp = 1.0 - gamma\n",
    "    #Define the inverse exponential\n",
    "    invexp = 1.0/exp\n",
    "    \n",
    "    x = (x_0**exp + u*(x_1**exp - x_0**exp))**invexp\n",
    "    \n",
    "    return x"
   ]
  },
  {
   "cell_type": "code",
   "execution_count": 216,
   "metadata": {
    "collapsed": true
   },
   "outputs": [],
   "source": [
    "# Define the values of parameters here and get 1175 values of x\n",
    "\n",
    "#Parameters\n",
    "x_0 = 0.5\n",
    "x_1 = 10.0\n",
    "gamma = 2.35\n",
    "N_star = 1175\n",
    "\n",
    "# Get N_star values, uniformly distributed between 0 and 1 \n",
    "u = rn.random(N_star)\n",
    "\n",
    "#transform them to x_values, distributed according to the Salpeter IMF\n",
    "\n",
    "x_random = salpeter_imf_rand(u, x_0, x_1, gamma)"
   ]
  },
  {
   "cell_type": "markdown",
   "metadata": {},
   "source": [
    "In the following plot, we present the  binned simulated data, as well as the Salpeter IMF for $\\gamma = 2.35$.  "
   ]
  },
  {
   "cell_type": "code",
   "execution_count": 217,
   "metadata": {
    "collapsed": false
   },
   "outputs": [
    {
     "data": {
      "image/png": "[encoded data removed]",
      "text/plain": [
       "<matplotlib.figure.Figure at 0x1274a1a90>"
      ]
     },
     "metadata": {},
     "output_type": "display_data"
    }
   ],
   "source": [
    "x_theor = np.linspace(0.5,10.0,200)\n",
    "f_theor = 0.539*(x_theor**(-gamma))\n",
    "\n",
    "\n",
    "plot_pretty()\n",
    "fig = plt.figure(figsize = (4,3.5))\n",
    "\n",
    "plt.hist(x_random, bins=20, range=(x_0,x_1), color='mediumblue', alpha=0.8, normed=True, label='Binned simulated events (normalized)')\n",
    "plt.plot(x_theor, f_theor, c='tomato', linewidth = 1.2, label=r'Salpeter IMF, with $\\gamma = 2.35$')\n",
    "\n",
    "plt.xlim(0.5,10.0);plt.ylim(0.0,2.0)\n",
    "plt.xlabel('$x$', fontsize=12)\n",
    "plt.title('1175 Simulated events between $x=0.5$ and $x=10.0$', fontsize=7)\n",
    "\n",
    "plt.legend(frameon=True, loc='upper right', fontsize=9, facecolor='w')\n",
    "plt.show()"
   ]
  },
  {
   "cell_type": "markdown",
   "metadata": {
    "collapsed": true
   },
   "source": [
    "## Weighted least squares\n",
    "\n",
    "To find the best fit parameter $\\gamma$, I have to minimize the function:\n",
    "\n",
    "\\begin{equation}\n",
    "X^2 = \\sum_{i=1}^{20} \\frac{1}{\\sigma_i^2}(y_i - f(x_i;\\gamma))^2\n",
    "\\end{equation}\n",
    "\n",
    "Where $\\sigma_i^2 = f(x_i;\\gamma)$ (assuming Poisson process). This can also be approximated by $\\sigma_i^2 \\cong y_i$. In our case, $y_i = n_i$ the (normalized) counts in the bin. Also we are not going to use the approximation for $\\sigma$, since in some bins we have just a few events (or no events at all). \n",
    "\n",
    "The error is calculated from the covariance matrix $V_{ij} = \\frac{\\partial^2 X^2}{\\partial \\gamma^2}$ that has one parameter in our case."
   ]
  },
  {
   "cell_type": "code",
   "execution_count": 218,
   "metadata": {
    "collapsed": false
   },
   "outputs": [],
   "source": [
    "# Calculate the number of events at each bin and the limits of the bins\n",
    "n_im, bin_lim = np.histogram(x_random, bins=20, range=(x_0,x_1), density=True)\n",
    "\n",
    "#Calculate the midpoints\n",
    "x_mid = np.zeros(20)\n",
    "\n",
    "for i in range(20):\n",
    "    x_mid[i] = 0.5*(bin_lim[i]+bin_lim[i+1])"
   ]
  },
  {
   "cell_type": "markdown",
   "metadata": {
    "collapsed": true
   },
   "source": [
    "Now define a function that calculates $f(x)$ for a given parameter $\\gamma$ ($x_0$ and $x_1$ are not being varied) and $\\sigma^2$ at the midpoints:"
   ]
  },
  {
   "cell_type": "code",
   "execution_count": 219,
   "metadata": {
    "collapsed": false
   },
   "outputs": [],
   "source": [
    "def func_x(x, gamma):\n",
    "    \"\"\"\n",
    "    Calculate the (normalized) salpeter IMF \n",
    "    for any parameter gamma\n",
    "    \"\"\"\n",
    "    ex_g = 1.0 - gamma\n",
    "    norm_A = ex_g/(x_1**ex_g - x_0**ex_g)\n",
    "    fun = norm_A*(x**(-gamma))\n",
    "    \n",
    "    return fun\n",
    "\n",
    "# =============================================\n",
    "# Now calculate the sigma \n",
    "\n",
    "sig = np.sqrt(func_x(x_mid, gamma))"
   ]
  },
  {
   "cell_type": "code",
   "execution_count": 220,
   "metadata": {
    "collapsed": false
   },
   "outputs": [
    {
     "name": "stdout",
     "output_type": "stream",
     "text": [
      "[2.44614493]\n",
      "[1.35895037]\n"
     ]
    }
   ],
   "source": [
    "from scipy.optimize import curve_fit\n",
    "\n",
    "gamma_0 = 2.0 #Initial guess for gamma\n",
    "\n",
    "# Calculate the best fit parameter and the error \n",
    "opt_gam, cov_gam = curve_fit(func_x, x_mid, n_im, p0=gamma_0, sigma=sig, absolute_sigma=True)\n",
    "\n",
    "print(opt_gam)\n",
    "      \n",
    "print(np.sqrt(np.diag(cov_gam)))"
   ]
  },
  {
   "cell_type": "markdown",
   "metadata": {
    "collapsed": false
   },
   "source": [
    "From the above, we see that..."
   ]
  },
  {
   "cell_type": "markdown",
   "metadata": {
    "collapsed": true
   },
   "source": [
    "# Problem"
   ]
  },
  {
   "cell_type": "code",
   "execution_count": 221,
   "metadata": {
    "collapsed": false
   },
   "outputs": [],
   "source": [
    "# First simulate 10^5 events\n",
    "N_stars = int(1e5)\n",
    "\n",
    "#Get N_stars random values from a homogeneous distribution (0,1)\n",
    "u = rn.random(N_stars)\n",
    "\n",
    "#transform them to x_values, distributed according to the Salpeter IMF\n",
    "\n",
    "x_random = salpeter_imf_rand(u, x_0, x_1, gamma)"
   ]
  },
  {
   "cell_type": "markdown",
   "metadata": {},
   "source": [
    "Let's plot the histograms now"
   ]
  },
  {
   "cell_type": "code",
   "execution_count": 222,
   "metadata": {
    "collapsed": false
   },
   "outputs": [
    {
     "data": {
      "image/png": "[encoded data removed]",
      "text/plain": [
       "<matplotlib.figure.Figure at 0x124543390>"
      ]
     },
     "metadata": {},
     "output_type": "display_data"
    }
   ],
   "source": [
    "fig, ax = plt.subplots(1, 3, figsize = (10,3))\n",
    "\n",
    "ax[0].hist(x_random, bins=100, range=(x_0,x_1), color='mediumblue', alpha=0.8, normed=True, label='Binned simulated events (normalized)')\n",
    "ax[0].plot(x_theor, f_theor, c='tomato', linewidth = 1.2, label=r'Salpeter IMF, with $\\gamma = 2.35$')\n",
    "ax[0].set_xlim(0.5,10.0);ax[0].set_ylim(0.0,2.0)\n",
    "ax[0].set_xlabel('$x$', fontsize=9)\n",
    "ax[0].set_title('100 bins', fontsize=8)\n",
    "\n",
    "ax[1].hist(x_random, bins=20, range=(x_0,x_1), color='mediumblue', alpha=0.8, normed=True, label='Binned simulated events (normalized)')\n",
    "ax[1].plot(x_theor, f_theor, c='tomato', linewidth = 1.2, label=r'Salpeter IMF, with $\\gamma = 2.35$')\n",
    "ax[1].set_xlim(0.5,10.0);ax[1].set_ylim(0.0,2.0)\n",
    "ax[1].set_xlabel('$x$', fontsize=9)\n",
    "ax[1].set_title('20 bins', fontsize=9)\n",
    "\n",
    "\n",
    "ax[2].hist(x_random, bins=1000, range=(x_0,x_1), color='mediumblue', alpha=0.8, normed=True, label='Binned simulated events (normalized)')\n",
    "ax[2].plot(x_theor, f_theor, c='tomato', linewidth = 1.2, label=r'Salpeter IMF, with $\\gamma = 2.35$')\n",
    "ax[2].set_xlim(0.5,10.0);ax[2].set_ylim(0.0,2.0)\n",
    "ax[2].set_xlabel('$x$', fontsize=9)\n",
    "ax[2].set_title('1000 bins', fontsize=9)\n",
    "\n",
    "plt.legend(frameon=True, loc='upper right', fontsize=6.5, facecolor='w')\n",
    "plt.show()"
   ]
  },
  {
   "cell_type": "markdown",
   "metadata": {},
   "source": [
    "## Fit with non-linear least squares\n",
    "\n",
    "I perform a fit of the three above histograms with non-linear least squares:\n",
    "\n",
    "\\begin{equation}\n",
    "\\left[\\frac{y_i -f(x_i)}{\\sigma_i} \\right]^2\n",
    "\\end{equation}\n",
    "\n",
    "For the uncertainty now I adopt $\\sigma_i = \\sqrt(y_i)$, where $y_i$ the number of events in the bin $i$."
   ]
  },
  {
   "cell_type": "code",
   "execution_count": 223,
   "metadata": {
    "collapsed": false
   },
   "outputs": [],
   "source": [
    "# Calculate the number of events at each bin and the limits of the bins \n",
    "# For the three cases\n",
    "# ====================================================================\n",
    "\n",
    "#Case one - 100 bins\n",
    "n_im_1, bin_lim_1 = np.histogram(x_random, bins=100, range=(x_0,x_1), density=True)\n",
    "\n",
    "#Calculate the midpoints\n",
    "x_mid_1 = np.zeros(100)\n",
    "\n",
    "for i in range(100):\n",
    "    x_mid_1[i] = 0.5*(bin_lim_1[i]+bin_lim_1[i+1])\n",
    "\n",
    "#====================================================================\n",
    "#Case two - 20 bins\n",
    "n_im_2, bin_lim_2 = np.histogram(x_random, bins=20, range=(x_0,x_1), density=True)\n",
    "\n",
    "#Calculate the midpoints\n",
    "x_mid_2 = np.zeros(20)\n",
    "\n",
    "for i in range(20):\n",
    "    x_mid_2[i] = 0.5*(bin_lim_2[i]+bin_lim_2[i+1])\n",
    "\n",
    "#Case three - 1000 bins\n",
    "n_im_3, bin_lim_3 = np.histogram(x_random, bins=1000, range=(x_0,x_1), density=True)\n",
    "\n",
    "#Calculate the midpoints\n",
    "x_mid_3 = np.zeros(1000)\n",
    "\n",
    "for i in range(1000):\n",
    "    x_mid_3[i] = 0.5*(bin_lim_3[i]+bin_lim_3[i+1])"
   ]
  },
  {
   "cell_type": "code",
   "execution_count": 224,
   "metadata": {
    "collapsed": true
   },
   "outputs": [],
   "source": [
    "# Calculate the sigmas in the three cases, where sigma_i is calculated as\n",
    "# The square root of n_i\n",
    "\n",
    "#I add the 1e-5 in order not to get any strange results and NaNs\n",
    "sig_1 = np.sqrt(n_im_1+1e-5)\n",
    "\n",
    "sig_2 = np.sqrt(n_im_2+1e-5) \n",
    "\n",
    "sig_3 = np.sqrt(n_im_3+1e-5)"
   ]
  },
  {
   "cell_type": "code",
   "execution_count": 225,
   "metadata": {
    "collapsed": false
   },
   "outputs": [
    {
     "name": "stdout",
     "output_type": "stream",
     "text": [
      "('value and error for 100 bins:', array([2.35929652]), array([[0.50190437]]))\n",
      "('value and error for 20 bins:', array([2.40986744]), array([[1.32717809]]))\n",
      "('value and error for 1000 bins:', array([2.65578389]), array([[0.14750422]]))\n"
     ]
    }
   ],
   "source": [
    "opt_gam_1, cov_gam_1 = curve_fit(func_x, x_mid_1, n_im_1, p0=gamma_0, sigma=sig_1, absolute_sigma=True)\n",
    "opt_gam_2, cov_gam_2 = curve_fit(func_x, x_mid_2, n_im_2, p0=gamma_0, sigma=sig_2, absolute_sigma=True)\n",
    "opt_gam_3, cov_gam_3 = curve_fit(func_x, x_mid_3, n_im_3, p0=gamma_0, sigma=sig_3, absolute_sigma=True)\n",
    "\n",
    "err_gam_1 = np.sqrt(cov_gam_1);err_gam_2 = np.sqrt(cov_gam_2); err_gam_3 = np.sqrt(cov_gam_3)\n",
    "\n",
    "print(\"value and error for 100 bins:\", opt_gam_1, err_gam_1)\n",
    "print(\"value and error for 20 bins:\", opt_gam_2, err_gam_2)\n",
    "print(\"value and error for 1000 bins:\", opt_gam_3, err_gam_3)"
   ]
  },
  {
   "cell_type": "markdown",
   "metadata": {},
   "source": [
    "We see that..."
   ]
  },
  {
   "cell_type": "markdown",
   "metadata": {},
   "source": [
    "## Non linear Least Square - second method\n",
    "\n",
    "Now, we will fit a non-linear least square, but instead of $f(x_i)$, we will use the number:\n",
    "\n",
    "\\begin{equation}\n",
    "p(x_i) = \\int_{x_{min,i}}^{x_{max,i}} f(x_i)\n",
    "\\end{equation}\n",
    "\n",
    "Actually, I calculate the expected number of events in the bin to be $N\\times p(x_i)$, where $N$ is the total number of events."
   ]
  },
  {
   "cell_type": "code",
   "execution_count": 226,
   "metadata": {
    "collapsed": true
   },
   "outputs": [],
   "source": [
    "# Now, I calculate again the number of events per bin, but now without\n",
    "#Normalizing the histogram\n",
    "\n",
    "n_im_1_n, bin_lim_1 = np.histogram(x_random, bins=100, range=(x_0,x_1), density=False)\n",
    "n_im_2_n, bin_lim_2 = np.histogram(x_random, bins=20, range=(x_0,x_1), density=False)\n",
    "n_im_3_n, bin_lim_3 = np.histogram(x_random, bins=1000, range=(x_0,x_1), density=False)\n",
    "\n",
    "#Calculate again the sigmas\n",
    "sig_1 = np.sqrt(n_im_1_n+1e-5)\n",
    "sig_2 = np.sqrt(n_im_2_n+1e-5)\n",
    "sig_3 = np.sqrt(n_im_3_n+1e-1)"
   ]
  },
  {
   "cell_type": "code",
   "execution_count": 227,
   "metadata": {
    "collapsed": false
   },
   "outputs": [],
   "source": [
    "# Write a function that calculates the probability p(x_i,gamma)\n",
    "import scipy.integrate as integrate\n",
    "\n",
    "# Now, for some reasons I have to define a separate function in every case\n",
    "\n",
    "delta_x_1 = 0.5*(bin_lim_1[1]-bin_lim_1[0])\n",
    "delta_x_2 = 0.5*(bin_lim_2[1]-bin_lim_2[0])\n",
    "delta_x_3 = 0.5*(bin_lim_3[1]-bin_lim_3[0])\n",
    "\n",
    "def p_x_gamm_1(x, gamma):\n",
    "    \"\"\"\n",
    "    Calculates and returns the integral\n",
    "    x is some midpoint\n",
    "    \"\"\"\n",
    "    num = np.size(x)\n",
    "    \n",
    "    x_in = x - delta_x_1\n",
    "    x_fin = x + delta_x_1\n",
    "    \n",
    "    p_x = np.zeros(num)\n",
    "    \n",
    "    for i in range(num):\n",
    "        p_x[i] = integrate.quad(func_x, x_in[i], x_fin[i], args=(gamma))[0]\n",
    "        \n",
    "        p_x[i] = N_stars*p_x[i]\n",
    "    \n",
    "    return p_x\n",
    "    \n",
    "#=================================================\n",
    "#=================================================\n",
    "def p_x_gamm_2(x, gamma):\n",
    "    \"\"\"\n",
    "    Calculates and returns the integral\n",
    "    x is some midpoint\n",
    "    \"\"\"\n",
    "    num = np.size(x)\n",
    "    \n",
    "    x_in = x - delta_x_2\n",
    "    x_fin = x + delta_x_2\n",
    "    \n",
    "    p_x = np.zeros(num)\n",
    "    \n",
    "    for i in range(num):\n",
    "        p_x[i] = integrate.quad(func_x, x_in[i], x_fin[i], args=(gamma))[0]\n",
    "        \n",
    "        p_x[i] = N_stars*p_x[i]\n",
    "    \n",
    "    return p_x\n",
    "\n",
    "#=================================================\n",
    "#=================================================\n",
    "def p_x_gamm_3(x, gamma):\n",
    "    \"\"\"\n",
    "    Calculates and returns the integral\n",
    "    x is some midpoint\n",
    "    \"\"\"\n",
    "    num = np.size(x)\n",
    "    \n",
    "    x_in = x - delta_x_3\n",
    "    x_fin = x + delta_x_3\n",
    "    \n",
    "    p_x = np.zeros(num)\n",
    "    \n",
    "    for i in range(num):\n",
    "        p_x[i] = integrate.quad(func_x, x_in[i], x_fin[i], args=(gamma), epsrel=1.49e-08)[0]\n",
    "        \n",
    "        p_x[i] = N_stars*p_x[i]\n",
    "    \n",
    "    return p_x\n",
    "\n",
    "sig_1 = np.sqrt(p_x_gamm_1(x_mid_1, gamma))\n",
    "sig_2 = np.sqrt(p_x_gamm_2(x_mid_2, gamma))\n",
    "sig_3 = np.sqrt(p_x_gamm_3(x_mid_3, gamma))"
   ]
  },
  {
   "cell_type": "code",
   "execution_count": 228,
   "metadata": {
    "collapsed": false
   },
   "outputs": [
    {
     "name": "stdout",
     "output_type": "stream",
     "text": [
      "('value and error for 100 bins:', array([2.35062676]), array([[0.00510195]]))\n",
      "('value and error for 20 bins:', array([2.35251854]), array([[0.005274]]))\n",
      "('value and error for 1000 bins:', array([2.35075275]), array([[0.00509447]]))\n"
     ]
    }
   ],
   "source": [
    "gamma_0 = 2.0\n",
    "\n",
    "opt_gam_1, cov_gam_1 = curve_fit(p_x_gamm_1, x_mid_1, n_im_1_n, p0=gamma_0, sigma=sig_1, absolute_sigma=True)\n",
    "opt_gam_2, cov_gam_2 = curve_fit(p_x_gamm_2, x_mid_2, n_im_2_n, p0=gamma_0, sigma=sig_2, absolute_sigma=True)\n",
    "opt_gam_3, cov_gam_3 = curve_fit(p_x_gamm_3, x_mid_3, n_im_3_n, p0=gamma_0, sigma=sig_3, absolute_sigma=True)\n",
    "\n",
    "err_gam_1 = np.sqrt(cov_gam_1);err_gam_2 = np.sqrt(cov_gam_2); err_gam_3 = np.sqrt(cov_gam_3)\n",
    "\n",
    "print(\"value and error for 100 bins:\", opt_gam_1, err_gam_1)\n",
    "print(\"value and error for 20 bins:\", opt_gam_2, err_gam_2)\n",
    "print(\"value and error for 1000 bins:\", opt_gam_3, err_gam_3)"
   ]
  },
  {
   "cell_type": "markdown",
   "metadata": {},
   "source": [
    "## Maximum likelihood method\n",
    "\n",
    "Assume that the number of events per bin are described by a Poisson distribution, with mean $f_i(x_i;\\gamma)$. The probability then to get $y_i$ in bin is:\n",
    "\n",
    "\\begin{equation}\n",
    "P(y_i) = \\frac{e^{-f_i}\\,f_i^{-y_i}}{y_i!},\n",
    "\\end{equation}\n",
    "\n",
    "where I dropped the explicit dependence of $f_i$ on $x$ and $\\gamma$.\n",
    "\n",
    "The total likelihood will be:\n",
    "\n",
    "\\begin{equation}\n",
    "\\boxed{\n",
    "{\\cal{L}} = \\prod_i  \\frac{e^{-f_i}\\,f_i^{-y_i}}{y_i!}}\n",
    "\\end{equation}\n",
    "\n",
    "Maximizing the likelihood is equivalent to minimizing the minus log-likelihood:\n",
    "\n",
    "\\begin{equation}\n",
    "-\\ln {\\cal{L}} = \\sum_i f_i + \\sum_i y_i \\ln f_i + \\sum_i \\ln y_i!\n",
    "\\end{equation}\n",
    "\n",
    "Then, I use the Stirling approximation: $\\ln y_i = y_i\\ln y_i - y_i$ and also combine the terms to get:\n",
    "\n",
    "\\begin{equation}\n",
    "\\boxed{\n",
    "-\\ln {\\cal{L}} = \\Sigma_i\\left[f_i + y_i\\left(\\ln f_i + \\ln y_i - 1 \\right)\\right]}\n",
    "\\end{equation}\n",
    "\n",
    "We have to minimize this. Let's write a piece of code to do that for the three binning schemes defined above."
   ]
  },
  {
   "cell_type": "code",
   "execution_count": 229,
   "metadata": {
    "collapsed": false
   },
   "outputs": [],
   "source": [
    "def log_like_g(gamma, n_bins):\n",
    "    \"\"\"\n",
    "    Defines the (negative) log-likelihood as a function\n",
    "    of gamma, this is the function to be minimized\n",
    "    ----- \n",
    "    gamma : the parameter gamma\n",
    "    n_bins : the number of bins used in the histogram - 100, 20 or 1000\n",
    "    \"\"\"\n",
    "    \n",
    "    if (n_bins==100):\n",
    "        f = func_x(x_mid_1, gamma)\n",
    "        y = n_im_1\n",
    "    elif (n_bins==20):\n",
    "        f = func_x(x_mid_2, gamma)\n",
    "        y = n_im_2\n",
    "    else:\n",
    "        f = func_x(x_mid_3, gamma)\n",
    "        y = n_im_3\n",
    "\n",
    "    log_like = -np.sum(f + y*(np.log(f)+np.log(y+1e-6)-1))\n",
    "    \n",
    "    return log_like"
   ]
  },
  {
   "cell_type": "code",
   "execution_count": 234,
   "metadata": {
    "collapsed": false
   },
   "outputs": [
    {
     "name": "stdout",
     "output_type": "stream",
     "text": [
      "[2.32827448]\n",
      "[2.01209753]\n",
      "[2.35052196]\n"
     ]
    }
   ],
   "source": [
    "from scipy.optimize import minimize\n",
    "\n",
    "gam_0 = 2.0\n",
    "\n",
    "opt_gam_1 = minimize(log_like_g, gam_0, args=(100))\n",
    "opt_gam_2 = minimize(log_like_g, gam_0, args=(20))\n",
    "opt_gam_3 = minimize(log_like_g, gam_0, args=(1000))\n",
    "\n",
    "print(opt_gam_1.x)\n",
    "print(opt_gam_2.x)\n",
    "print(opt_gam_3.x)"
   ]
  },
  {
   "cell_type": "markdown",
   "metadata": {},
   "source": [
    "Let's calculate the error now, by calculating the second derivative "
   ]
  },
  {
   "cell_type": "markdown",
   "metadata": {},
   "source": [
    "## Linear least squares\n"
   ]
  },
  {
   "cell_type": "code",
   "execution_count": null,
   "metadata": {
    "collapsed": false
   },
   "outputs": [],
   "source": []
  },
  {
   "cell_type": "code",
   "execution_count": null,
   "metadata": {
    "collapsed": false
   },
   "outputs": [],
   "source": []
  },
  {
   "cell_type": "code",
   "execution_count": null,
   "metadata": {
    "collapsed": true
   },
   "outputs": [],
   "source": []
  },
  {
   "cell_type": "code",
   "execution_count": null,
   "metadata": {
    "collapsed": true
   },
   "outputs": [],
   "source": []
  },
  {
   "cell_type": "code",
   "execution_count": null,
   "metadata": {
    "collapsed": true
   },
   "outputs": [],
   "source": []
  },
  {
   "cell_type": "code",
   "execution_count": null,
   "metadata": {
    "collapsed": true
   },
   "outputs": [],
   "source": []
  },
  {
   "cell_type": "code",
   "execution_count": null,
   "metadata": {
    "collapsed": true
   },
   "outputs": [],
   "source": []
  }
 ],
 "metadata": {
  "kernelspec": {
   "display_name": "Python 2",
   "language": "python",
   "name": "python2"
  },
  "language_info": {
   "codemirror_mode": {
    "name": "ipython",
    "version": 2
   },
   "file_extension": ".py",
   "mimetype": "text/x-python",
   "name": "python",
   "nbconvert_exporter": "python",
   "pygments_lexer": "ipython2",
   "version": "2.7.13"
  }
 },
 "nbformat": 4,
 "nbformat_minor": 2
}
